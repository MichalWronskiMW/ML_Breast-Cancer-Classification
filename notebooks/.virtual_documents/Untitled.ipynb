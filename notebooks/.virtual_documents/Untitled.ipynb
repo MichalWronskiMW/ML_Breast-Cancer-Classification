


import numpy as np
import pandas as pd
import os


sys.path.insert(0, os.path.abspath('../data'))


df = pd.read_csv('../data/raw_data.csv')








df.info()





df.describe().T



