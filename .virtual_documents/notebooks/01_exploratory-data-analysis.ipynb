


import numpy as np
import pandas as pd
import os
import matplotlib.pyplot as plt
import seaborn as sns


sys.path.insert(0, os.path.abspath('../data'))


df = pd.read_csv('../data/raw_data.csv')





df.head()


df.info()





df.describe().T








plt.figure(figsize=(6, 4))

target_palette = {
    "B": "#000080",  # navy for benign
    "M": "#FF8C00"   # dark orange for malignant
}

ax = sns.countplot(
    data=df,
    x="diagnosis",
    hue="diagnosis",
    palette={"M": "orange", "B": "navy"}, 
    legend=False
)

ax.set_title("Distribution of Diagnosis", fontsize=14)
ax.set_xlabel("Diagnosis", fontsize=12)
ax.set_ylabel("Count", fontsize=12)
[ax.bar_label(c, fmt='%d', label_type='edge', padding=3) for c in ax.containers]

sns.despine()  
ax.grid(False)

plt.tight_layout()
plt.show()








df_corr = df.copy()
df_corr["diagnosis"] = df_corr["diagnosis"].map({"B": 0, "M": 1})

df_corr = df_corr.drop(columns="id")

corr_matrix = df_corr.corr()
corr_matrix


plt.figure(figsize=(14, 12))
sns.heatmap(
    corr_matrix,
    cmap="coolwarm",
    annot=False,
    linewidths=0.5,
    square=True,
    cbar_kws={"shrink": 0.75}
)
plt.title("Correlation Matrix of Features", fontsize=16)
plt.tight_layout()
plt.show()


diagnosis_corr = corr_matrix["diagnosis"].drop("diagnosis").abs()
high_corr_features = diagnosis_corr[diagnosis_corr > 0.7].sort_values(ascending=False)

print('Highly correlated features:')
print(high_corr_features)


for feature in high_corr_features.index:
    plt.figure(figsize=(6, 4))
    sns.histplot(data=df, x=feature, hue="diagnosis", palette=target_palette, kde=True, element="step", stat="density", common_norm=False)
    plt.title(f"Distribution of {feature} by Diagnosis", fontsize=14)
    plt.xlabel(feature)
    plt.ylabel("Density")
    plt.tight_layout()
    plt.show()






