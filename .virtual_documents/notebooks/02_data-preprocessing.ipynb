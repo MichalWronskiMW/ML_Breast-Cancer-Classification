


import numpy as np
import pandas as pd
from sklearn.model_selection import train_test_split
from sklearn.preprocessing import StandardScaler
import pickle
import os
import sys

sys.path.insert(0, os.path.abspath('../data'))


df = pd.read_csv('../data/01_raw_data.csv')


df.head()





# Drop the non-informative 'id' column
df = df.drop('id', axis=1)


# Encode the target variable: M = 1, B = 0
df['diagnosis'] = df['diagnosis'].map({'M': 1, 'B': 0})








y = df['diagnosis']
X = df.drop('diagnosis', axis=1)


X_train, X_test, y_train, y_test = train_test_split(X, y, test_size=0.2, random_state=42)

print("Train shape:", X_train.shape)
print("Test shape:", X_test.shape)


scaler = StandardScaler()

X_train_scaled = scaler.fit_transform(X_train)
X_test_scaled = scaler.transform(X_test)


with open("../data/02_train-test-data-raw.pkl", "wb") as f:
    pickle.dump((X_train, X_test, y_train, y_test), f)

with open("../data/02_train-test-data-scaled.pkl", "wb") as f:
    pickle.dump((X_train_scaled, X_test_scaled, y_train, y_test), f)






